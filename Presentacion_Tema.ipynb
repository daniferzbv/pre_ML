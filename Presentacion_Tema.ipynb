{
 "cells": [
  {
   "cell_type": "markdown",
   "metadata": {},
   "source": [
    "# Primera entrega ML"
   ]
  },
  {
   "cell_type": "markdown",
   "metadata": {},
   "source": [
    "### Título de proyecto"
   ]
  },
  {
   "cell_type": "code",
   "execution_count": null,
   "metadata": {},
   "outputs": [],
   "source": [
    "# Escribir el título de proyecto en Markdown\n",
    "titulo = \"\""
   ]
  },
  {
   "cell_type": "markdown",
   "metadata": {},
   "source": [
    "Concesión de crédito bancario"
   ]
  },
  {
   "cell_type": "markdown",
   "metadata": {},
   "source": [
    "### Tema"
   ]
  },
  {
   "cell_type": "code",
   "execution_count": null,
   "metadata": {},
   "outputs": [],
   "source": [
    "tema = \"\" # Breve descripción del proyecto"
   ]
  },
  {
   "cell_type": "code",
   "execution_count": null,
   "metadata": {},
   "outputs": [],
   "source": [
    "# Describir el tema en Markdown "
   ]
  },
  {
   "cell_type": "markdown",
   "metadata": {},
   "source": [
    "Proyecto que analiza si se te va a conceder o no un credito bancario"
   ]
  },
  {
   "cell_type": "markdown",
   "metadata": {},
   "source": [
    "### Datasets y fuentes alternativas de datos\n",
    "Incluye aquí una breve descripción del dataset o datasets para tu proyecto. Incluye también las fuentes de cada uno de ellos."
   ]
  },
  {
   "cell_type": "code",
   "execution_count": null,
   "metadata": {},
   "outputs": [],
   "source": [
    "tipo_ml = \"\" # Regresión? Clasificación?\n",
    "target_descr = \"\" # Descripción de la variable objetivo\n",
    "metricas = [] # Metricas escogidas para evaluar los modelos"
   ]
  },
  {
   "cell_type": "markdown",
   "metadata": {},
   "source": [
    "tipo_ml = En principio de clasificación pues la variable a predecir es la obtención o no de crédito\n",
    "\n",
    "target_descr= como he mencionado, sera una variable binaria si o no\n",
    "\n",
    "metricas= accuracy, recall, precision, score, matriz de confusion"
   ]
  },
  {
   "cell_type": "code",
   "execution_count": null,
   "metadata": {},
   "outputs": [],
   "source": [
    "# dasets y enlaces de datasets en Markdown\n",
    "enlaces = [] # [\"www.paginacondatos.com\", \"www.paginawebscrapeada.com\", \"www.unaapi.com\"]"
   ]
  },
  {
   "cell_type": "markdown",
   "metadata": {},
   "source": [
    "En principio de estos datasets aunque a lo mejor me centro luego solo en uno, o añado más si veo que puedo mejorar la prediccion\n",
    "\n",
    "https://www.kaggle.com/datasets/ankitkalauni/bank-loan-defaulter-prediction-hackathon\n",
    "\n",
    "https://www.kaggle.com/datasets/maryammanoochehry/bank-personal-loan\n",
    "\n",
    "https://huggingface.co/datasets/13nishit/LoanApprovalPrediction \n",
    "\n",
    "https://www.kaggle.com/datasets/mirbektoktogaraev/should-this-loan-be-approved-or-denied "
   ]
  },
  {
   "cell_type": "code",
   "execution_count": null,
   "metadata": {},
   "outputs": [],
   "source": [
    "# load dataset\n",
    "# df_1.head()"
   ]
  },
  {
   "cell_type": "code",
   "execution_count": null,
   "metadata": {},
   "outputs": [],
   "source": [
    "# load dataset\n",
    "# df_2.head()"
   ]
  },
  {
   "cell_type": "markdown",
   "metadata": {},
   "source": [
    "https://www.kaggle.com/datasets/mpwolke/cusersmarildownloadsgermancsv solo hay 1000 filas..."
   ]
  },
  {
   "cell_type": "markdown",
   "metadata": {},
   "source": [
    "https://www.kaggle.com/datasets/mahnazarjmand/bank-personal-loan/data"
   ]
  },
  {
   "cell_type": "markdown",
   "metadata": {},
   "source": [
    "Este puede ser bueno https://www.kaggle.com/datasets/yasserh/loan-default-dataset"
   ]
  },
  {
   "cell_type": "markdown",
   "metadata": {},
   "source": [
    "https://app.datacamp.com/workspace/w/a3564bff-e281-4157-898f-e50b7bbacc62/edit a ver si este mola"
   ]
  },
  {
   "cell_type": "markdown",
   "metadata": {},
   "source": [
    "creo que por fin, este mola https://www.kaggle.com/datasets/nikhil1e9/loan-default/data "
   ]
  }
 ],
 "metadata": {
  "interpreter": {
   "hash": "7c77fdb427e7cbc9bc1367dd530fc2b36aacdbbde1ac83c85833b10dfa8b831c"
  },
  "kernelspec": {
   "display_name": "Python 3.7.4 64-bit",
   "language": "python",
   "name": "python3"
  },
  "language_info": {
   "codemirror_mode": {
    "name": "ipython",
    "version": 3
   },
   "file_extension": ".py",
   "mimetype": "text/x-python",
   "name": "python",
   "nbconvert_exporter": "python",
   "pygments_lexer": "ipython3",
   "version": "3.7.4"
  },
  "orig_nbformat": 4
 },
 "nbformat": 4,
 "nbformat_minor": 2
}
